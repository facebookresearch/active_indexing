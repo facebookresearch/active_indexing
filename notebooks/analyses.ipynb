{
 "cells": [
  {
   "attachments": {},
   "cell_type": "markdown",
   "metadata": {},
   "source": [
    " Copyright (c) Meta Platforms, Inc. and affiliates.\n",
    " All rights reserved.\n",
    " This source code is licensed under the license found in the\n",
    " LICENSE file in the root directory of this source tree."
   ]
  },
  {
   "cell_type": "code",
   "execution_count": 1,
   "metadata": {},
   "outputs": [
    {
     "name": "stdout",
     "output_type": "stream",
     "text": [
      "/private/home/pfz/02-activeindexing/active_indexing\n"
     ]
    },
    {
     "name": "stderr",
     "output_type": "stream",
     "text": [
      "/private/home/pfz/anaconda3/envs/active_indexing/lib/python3.10/site-packages/tqdm/auto.py:22: TqdmWarning: IProgress not found. Please update jupyter and ipywidgets. See https://ipywidgets.readthedocs.io/en/stable/user_install.html\n",
      "  from .autonotebook import tqdm as notebook_tqdm\n",
      "/tmp/ipykernel_3427147/3002272295.py:19: MatplotlibDeprecationWarning: The seaborn styles shipped by Matplotlib are deprecated since 3.6, as they no longer correspond to the styles shipped by seaborn. However, they will remain available as 'seaborn-v0_8-<style>'. Alternatively, directly use the seaborn API instead.\n",
      "  plt.style.use('seaborn-whitegrid')\n",
      "/tmp/ipykernel_3427147/3002272295.py:27: MatplotlibDeprecationWarning: The seaborn styles shipped by Matplotlib are deprecated since 3.6, as they no longer correspond to the styles shipped by seaborn. However, they will remain available as 'seaborn-v0_8-<style>'. Alternatively, directly use the seaborn API instead.\n",
      "  plt.style.use('seaborn-whitegrid')\n"
     ]
    }
   ],
   "source": [
    "%cd ..\n",
    "\n",
    "import pickle, json, time, os, tqdm\n",
    "\n",
    "import torch\n",
    "import torch.nn as nn\n",
    "from torch import optim\n",
    "from torch.utils.data import DataLoader\n",
    "\n",
    "from torchvision import transforms\n",
    "from torchvision import transforms\n",
    "from torchvision.transforms import functional\n",
    "\n",
    "import faiss\n",
    "import pandas as pd\n",
    "import numpy as np\n",
    "\n",
    "import matplotlib.pyplot as plt\n",
    "plt.style.use('seaborn-whitegrid')\n",
    "COLOR = 'black'\n",
    "plt.rcParams[\"font.family\"] = \"serif\"\n",
    "plt.rcParams[\"font.family\"] = \"Times New Roman\"\n",
    "plt.rcParams['text.color'] = COLOR\n",
    "plt.rcParams['axes.labelcolor'] = COLOR\n",
    "plt.rcParams['xtick.color'] = COLOR\n",
    "plt.rcParams['ytick.color'] = COLOR\n",
    "plt.style.use('seaborn-whitegrid')\n",
    "\n",
    "from PIL import Image\n",
    "import augly\n",
    "import augly.image as imaugs\n",
    "\n",
    "from scipy.special import betainc\n",
    "import scipy.stats as stats\n",
    "from scipy.stats import beta\n",
    "from scipy.spatial.distance import cdist\n",
    "from skimage.metrics import structural_similarity, peak_signal_noise_ratio, hausdorff_distance\n",
    "\n",
    "from sklearn.metrics import PrecisionRecallDisplay,  precision_recall_curve, average_precision_score\n",
    "\n",
    "from activeindex import utils, augment_queries\n",
    "\n",
    "device = torch.device('cuda' if torch.cuda.is_available() else 'cpu')\n",
    "\n",
    "import warnings\n",
    "warnings.filterwarnings(\"ignore\")"
   ]
  },
  {
   "attachments": {},
   "cell_type": "markdown",
   "metadata": {},
   "source": [
    "## R@1 and Table 1"
   ]
  },
  {
   "cell_type": "code",
   "execution_count": 2,
   "metadata": {},
   "outputs": [],
   "source": [
    "attacks = [{'attack': 'none', 'attack_param':0.0 }] \\\n",
    "    + [{'attack': 'contrast', 'attack_param': cf} for cf in [0.5, 2.0]] \\\n",
    "    + [{'attack': 'brightness', 'attack_param': bf} for bf in [0.5, 2.0]] \\\n",
    "    + [{'attack': 'hue', 'attack_param': 0.2}] \\\n",
    "    + [{'attack': 'blur', 'attack_param': 11}] \\\n",
    "    + [{'attack': 'jpeg', 'attack_param': 50}] \\\n",
    "    + [{'attack': 'rotation', 'attack_param': angle} for angle in [25,90]] \\\n",
    "    + [{'attack': 'center_crop', 'attack_param': 0.5}] \\\n",
    "    + [{'attack': 'resize', 'attack_param': 0.5}] \\\n",
    "    + [{'attack': 'meme_format', 'attack_param':0.0 }] \\\n",
    "    + [{'attack': 'auto', 'attack_param':0.0 }] \n",
    "\n",
    "def print_cols(paths, attacks=attacks):\n",
    "    dfs = {}\n",
    "    for ii, path in enumerate(paths):\n",
    "        csv_path = os.path.join(path, 'retr_df.csv')\n",
    "        dfs[path] = pd.read_csv(csv_path, on_bad_lines='skip') \n",
    "        dfs[path] = dfs[path].fillna(0)\n",
    "\n",
    "    # print([f\"{att['attack']}, {att['attack_param']}\" for att in attacks] + [\"avg, 0\"])\n",
    "    for path in paths:\n",
    "        df = dfs[path]\n",
    "        df.drop(columns=['ap', 'image_index', 'rank'], inplace=True)\n",
    "        df = df.groupby(['attack', 'attack_param'], as_index=False).mean()\n",
    "        df = df[df['attack']!='overlay_onto_screenshot']\n",
    "        r1s = [df[df['attack']==att['attack']][df['attack_param']==att['attack_param']]['r@1'].values[0] for att in attacks]\n",
    "        r1s.append(np.mean(r1s))\n",
    "        print(f\" & {' & '.join([f'{r1:.2f}' for r1 in r1s])} \\\\\\\\\")"
   ]
  },
  {
   "cell_type": "code",
   "execution_count": 4,
   "metadata": {},
   "outputs": [
    {
     "name": "stdout",
     "output_type": "stream",
     "text": [
      "['none, 0.0', 'contrast, 0.5', 'contrast, 2.0', 'brightness, 0.5', 'brightness, 2.0', 'hue, 0.2', 'blur, 11', 'jpeg, 50', 'rotation, 25', 'rotation, 90', 'center_crop, 0.5', 'resize, 0.5', 'meme_format, 0.0', 'auto, 0.0', 'avg, 0']\n",
      " & 1.00 & 1.00 & 0.95 & 1.00 & 0.92 & 1.00 & 0.97 & 0.99 & 0.11 & 0.55 & 0.32 & 1.00 & 0.35 & 0.32 & 0.75 \\\\\n",
      " & 1.00 & 0.73 & 0.38 & 0.74 & 0.29 & 0.63 & 0.52 & 0.70 & 0.08 & 0.16 & 0.15 & 0.75 & 0.11 & 0.13 & 0.46 \\\\\n"
     ]
    }
   ],
   "source": [
    "paths = [\"path/to/folder1/where/df/is/saved\", \"path/to/folder2/where/df/is/saved\"]\n",
    "\n",
    "paths = [f\"/checkpoint/pfz/2023_logs/0220_active_ivfpq_old/_active={active}\" for active in [\"True\", \"False\"]]\n",
    "print([f\"{att['attack']}, {att['attack_param']}\" for att in attacks] + [\"avg, 0\"])\n",
    "print_cols(paths)"
   ]
  },
  {
   "cell_type": "code",
   "execution_count": 35,
   "metadata": {},
   "outputs": [
    {
     "name": "stdout",
     "output_type": "stream",
     "text": [
      "ivf 1024\n",
      " & 1.00 & 1.00 & 0.98 & 1.00 & 0.96 & 1.00 & 0.98 & 1.00 & 0.54 & 0.92 & 0.69 & 1.00 & 0.87 & 0.47 & 0.89 \\\\\n",
      " & 1.00 & 0.88 & 0.65 & 0.88 & 0.54 & 0.79 & 0.62 & 0.86 & 0.44 & 0.57 & 0.49 & 0.84 & 0.46 & 0.30 & 0.66 \\\\\n",
      "PCA LSH\n",
      " & 1.00 & 1.00 & 0.99 & 1.00 & 0.96 & 1.00 & 0.99 & 1.00 & 0.33 & 0.85 & 0.74 & 1.00 & 0.86 & 0.36 & 0.86 \\\\\n",
      " & 1.00 & 1.00 & 0.89 & 1.00 & 0.73 & 0.98 & 0.95 & 0.99 & 0.26 & 0.62 & 0.57 & 1.00 & 0.60 & 0.27 & 0.78 \\\\\n",
      "OPQ\n",
      " & 1.00 & 1.00 & 1.00 & 1.00 & 0.99 & 1.00 & 1.00 & 1.00 & 0.72 & 0.99 & 0.97 & 1.00 & 0.98 & 0.58 & 0.94 \\\\\n",
      " & 1.00 & 1.00 & 1.00 & 1.00 & 0.97 & 1.00 & 1.00 & 1.00 & 0.63 & 0.91 & 0.91 & 1.00 & 0.91 & 0.52 & 0.92 \\\\\n"
     ]
    }
   ],
   "source": [
    "print('ivf 1024')\n",
    "paths = [\"path/to/folder1/where/df/is/saved\", \"path/to/folder2/where/df/is/saved\"]\n",
    "print_cols(paths)\n",
    "\n",
    "print('PCA LSH')\n",
    "paths = [\"path/to/folder1/where/df/is/saved\", \"path/to/folder2/where/df/is/saved\"]\n",
    "print_cols(paths)\n",
    "\n",
    "print('OPQ')\n",
    "paths = [\"path/to/folder1/where/df/is/saved\", \"path/to/folder2/where/df/is/saved\"]\n",
    "print_cols(paths)"
   ]
  },
  {
   "cell_type": "markdown",
   "metadata": {},
   "source": [
    "## Analyse ICD"
   ]
  },
  {
   "cell_type": "code",
   "execution_count": 5,
   "metadata": {},
   "outputs": [],
   "source": [
    "paths = [\"path/to/folder1/where/icd_df/is/saved\", \"path/to/folder2/where/icd_df/is/saved\"]\n",
    "\n",
    "dfs = {}\n",
    "for ii, path in enumerate(paths):\n",
    "    csv_path = os.path.join(path, 'icd_df.csv')\n",
    "    dfs[path] = pd.read_csv(csv_path, on_bad_lines='skip') \n",
    "\n",
    "    # load scores and retrieved_ids and convert to list of floats and ints (original is string)\n",
    "    dfs[path][\"scores\"] = dfs[path][\"retrieved_distances\"].apply(lambda row:[float(numb) for numb in row[1:-1].split()])\n",
    "    dfs[path][\"retrieved_ids\"] = dfs[path][\"retrieved_ids\"].apply(lambda row:[int(numb) for numb in row[1:-1].split()])\n",
    "    dfs[path] = dfs[path].fillna(0)"
   ]
  },
  {
   "cell_type": "code",
   "execution_count": 24,
   "metadata": {},
   "outputs": [
    {
     "data": {
      "image/png": "[encoded data removed]",
      "text/plain": [
       "<Figure size 400x300 with 1 Axes>"
      ]
     },
     "metadata": {},
     "output_type": "display_data"
    }
   ],
   "source": [
    "_, ax = plt.subplots(figsize=(4,3))\n",
    "\n",
    "NPAIRS = 100 # number of pairs to consider for each query\n",
    "\n",
    "for ii, path in enumerate(dfs.keys()):\n",
    "\n",
    "    icd_df = dfs[path]\n",
    "\n",
    "    # build scores and ground truth\n",
    "    all_scores = icd_df[\"scores\"].values\n",
    "    all_ids = icd_df[\"image_index\"].values\n",
    "    all_retrieved_ids  = icd_df[\"retrieved_ids\"].values\n",
    "\n",
    "    # creating labels and score for the possible pairs\n",
    "    y_labels = []\n",
    "    y_scores = []\n",
    "\n",
    "    for ii in range(len(all_scores)):\n",
    "        # create NPAIRS scores and labels\n",
    "        scores = all_scores[ii][:NPAIRS] \n",
    "        retrieved_ids = all_retrieved_ids[ii][:NPAIRS]\n",
    "\n",
    "        # in the case of the IVF, when the IVF cluster contains less than NPAIRS, the retrieved id will be -1\n",
    "        # we remove these cases\n",
    "        if -1 in retrieved_ids:\n",
    "            idx = retrieved_ids.index(-1)\n",
    "            scores = scores[:idx]\n",
    "            retrieved_ids = retrieved_ids[:idx]\n",
    "\n",
    "        # we create the labels and scores for the pairs   \n",
    "        if False:\n",
    "            scores = [-score for score in scores]\n",
    "            labels = [0 if all_ids[ii] != id else 1 for id in retrieved_ids]\n",
    "        else: # potential score normalization\n",
    "            beta = 1.0\n",
    "            scores = [-scores[jj]+beta*(scores[jj+1]) for jj in range(len(scores)-1)]\n",
    "            labels = [0 if all_ids[ii] != id else 1 for id in retrieved_ids[:-1]]\n",
    "\n",
    "        # if the true match is never returned for an image originally present in the reference set, we add it with a high distance (low score)\n",
    "        # this allows us to be fair in the case of the IVF, where the true match can sometimes be missing\n",
    "        if icd_df['image_index'][ii]!=-1 and np.sum(labels) == 0:\n",
    "            scores.append(-1)\n",
    "            labels.append(1)\n",
    "\n",
    "        # add to the list\n",
    "        y_labels += labels\n",
    "        y_scores += scores\n",
    "\n",
    "    # compute precision recall curve from the labels and scores\n",
    "    precision = dict()\n",
    "    recall = dict()\n",
    "    average_precision = dict()\n",
    "    precision, recall, _ = precision_recall_curve(y_labels, y_scores)\n",
    "    average_precision = average_precision_score(y_labels, y_scores)\n",
    "    display = PrecisionRecallDisplay(\n",
    "        recall=recall,\n",
    "        precision=precision\n",
    "    )\n",
    "    name = path.split(\"=\")[-1]\n",
    "    name += \" (\" + r'$\\mu$AP={:.3f}'.format(average_precision) + \" )\"\n",
    "    display.plot(ax=ax, name=name)\n",
    "\n",
    "ax.set_xlim(0, 0.5)\n",
    "\n",
    "ax.legend(loc=\"upper right\", bbox_to_anchor=(1.0, 0.95),  framealpha=0.6, frameon=True)\n",
    "plt.show()"
   ]
  },
  {
   "cell_type": "markdown",
   "metadata": {},
   "source": [
    "## Proba of failure of the IVF"
   ]
  },
  {
   "cell_type": "code",
   "execution_count": 15,
   "metadata": {},
   "outputs": [
    {
     "name": "stdout",
     "output_type": "stream",
     "text": [
      ">>> Building backbone...\n",
      ">>> Building Index...\n"
     ]
    },
    {
     "name": "stderr",
     "output_type": "stream",
     "text": [
      "100%|██████████| 10000/10000 [09:35<00:00, 17.38it/s]\n",
      "100%|██████████| 10000/10000 [09:27<00:00, 17.61it/s]\n",
      "100%|██████████| 10000/10000 [01:54<00:00, 87.26it/s]"
     ]
    },
    {
     "name": "stdout",
     "output_type": "stream",
     "text": [
      "pf_ivf :  0.1338\n",
      "pf_ivf :  0.3235\n"
     ]
    },
    {
     "name": "stderr",
     "output_type": "stream",
     "text": [
      "\n"
     ]
    }
   ],
   "source": [
    "model_path = \"path/to/sscd/sscd_disc_mixup.torchscript.pt\"\n",
    "idx_path = \"path/to/idx=IVF4096,PQ8x8_quant=L2.index\"\n",
    "img_dir_pas = \"path/to/passive/imgs/dir\"\n",
    "img_dir_act = \"path/to/activated/imgs/dir\"\n",
    "\n",
    "print('>>> Building backbone...')\n",
    "model = utils.build_backbone(path=model_path, name='torchscript')\n",
    "model.eval()\n",
    "model.to(device)\n",
    "\n",
    "size= 288\n",
    "print('>>> Building Index...')\n",
    "index = faiss.read_index(idx_path)\n",
    "\n",
    "index.make_direct_map()\n",
    "ivf_centroids = index.quantizer.reconstruct_n(0, index.nlist)\n",
    "\n",
    "default_transform = transforms.Compose([transforms.ToTensor(), transforms.Normalize(mean=[0.485, 0.456, 0.406], std=[0.229, 0.224, 0.225]), transforms.Resize((size,size))])\n",
    "\n",
    "def get_centroids(img_dir, augment=True, nmax=100):\n",
    "    data_loader = utils.get_dataloader(img_dir, transform=None, batch_size=1)\n",
    "    rng = np.random.RandomState(0)\n",
    "    centroids = []\n",
    "    for ii, img in enumerate(tqdm.tqdm(data_loader)):\n",
    "        pil_img = img[0]\n",
    "        if augment:\n",
    "            attacked_img, aug_params = augment_queries.augment_img(pil_img, rng, return_params=True)\n",
    "        else:\n",
    "            attacked_img = pil_img\n",
    "        attacked_img = default_transform(attacked_img).unsqueeze(0).to(device)\n",
    "        ft = model(attacked_img)\n",
    "        ft = ft.detach().cpu().numpy()\n",
    "\n",
    "        ivf_D, ivf_I = index.quantizer.search(ft, k=1)\n",
    "        centroids.append(ivf_I[0][0])\n",
    "\n",
    "        if ii >= nmax:\n",
    "            break\n",
    "    return centroids\n",
    "\n",
    "centroids_pas = get_centroids(img_dir_pas, augment=True, nmax=10000)\n",
    "centroids_act = get_centroids(img_dir_act, augment=True, nmax=10000)\n",
    "centroids_gt = get_centroids(img_dir_pas, augment=False, nmax=10000)\n",
    "print('pf_ivf : ', np.mean([el1 ==el2 for el1, el2 in zip(centroids_pas, centroids_gt)]))\n",
    "print('pf_ivf : ', np.mean([el1 ==el2 for el1, el2 in zip(centroids_act, centroids_gt)]))"
   ]
  },
  {
   "cell_type": "markdown",
   "metadata": {},
   "source": [
    "## Reconstruction errors"
   ]
  },
  {
   "cell_type": "code",
   "execution_count": 10,
   "metadata": {},
   "outputs": [
    {
     "data": {
      "image/png": "[encoded data removed]",
      "text/plain": [
       "<Figure size 400x350 with 2 Axes>"
      ]
     },
     "metadata": {},
     "output_type": "display_data"
    },
    {
     "name": "stdout",
     "output_type": "stream",
     "text": [
      "0.80783516 0.83869237 0.5528321 0.70657384\n"
     ]
    }
   ],
   "source": [
    "model_path = \"path/to/sscd/sscd_disc_mixup.torchscript.pt\"\n",
    "idx_path = \"path/to/idx=IVF4096,PQ8x8_quant=L2.index\"\n",
    "fts_ref_path = \"path/to/fts_ref.pt\"\n",
    "img_dir_pas = \"path/to/passive/imgs/dir\"\n",
    "img_dir_act = \"path/to/activated/imgs/dir\"\n",
    "\n",
    "print('>>> Building backbone...')\n",
    "model = utils.build_backbone(path=model_path, name='torchscript')\n",
    "model.eval()\n",
    "model.to(device)\n",
    "\n",
    "size= 288\n",
    "\n",
    "print('>>> Building Index...')\n",
    "fts = torch.load(fts_ref_path)\n",
    "index = faiss.read_index(idx_path)\n",
    "index.add(fts.detach().cpu().numpy())\n",
    "n_total = index.ntotal\n",
    "ivf_centroids = index.quantizer.reconstruct_n(0, index.nlist)\n",
    "index.make_direct_map()\n",
    "\n",
    "def get_dists(img_dir, transform, n_max = 1000):\n",
    "    dists_1 = []\n",
    "    dists_2 = []\n",
    "    ct=0\n",
    "    default_transform = transforms.Compose([transforms.ToTensor(),transforms.Normalize(mean=[0.485, 0.456, 0.406], std=[0.229, 0.224, 0.225])])\n",
    "    for img_name in tqdm.tqdm(os.listdir(img_dir)):\n",
    "        img_path = os.path.join(img_dir, img_name)\n",
    "        if 'attack' in img_name:\n",
    "            continue\n",
    "        pil_img = Image.open(img_path)\n",
    "        img = transform(pil_img).unsqueeze(0).to(device)\n",
    "        img = functional.resize(img, (size,size))\n",
    "        \n",
    "        # create ft and add\n",
    "        ft = model(img).detach().cpu().numpy()\n",
    "        if index.ntotal < n_total + n_max:\n",
    "            index.add(ft)\n",
    "            index.make_direct_map()\n",
    "\n",
    "        img = default_transform(pil_img).unsqueeze(0).to(device)\n",
    "        img = functional.resize(img, (size,size))\n",
    "        ft_ori = model(img).detach().cpu().numpy()\n",
    "\n",
    "        # recons\n",
    "        pq_recons = index.reconstruct(n_total+ct)\n",
    "        dist = np.linalg.norm(ft-pq_recons)\n",
    "        dists_1.append(dist)\n",
    "\n",
    "        # cluster\n",
    "        ivf_D, ivf_I = index.quantizer.search(ft_ori, k=1)\n",
    "        centroid = ivf_centroids.take(ivf_I.flatten(), axis=0)\n",
    "        dist = np.linalg.norm(ft-centroid)\n",
    "        dists_2.append(dist)\n",
    "\n",
    "        ct += 1\n",
    "        if ct >= n_max:\n",
    "            break\n",
    "    return np.array(dists_1), np.array(dists_2)\n",
    "    \n",
    "n_max = 10000\n",
    "\n",
    "print('>>> Computing distances...')\n",
    "\n",
    "transform = transforms.Compose([\n",
    "    transforms.ToTensor(),\n",
    "    transforms.Normalize(mean=[0.485, 0.456, 0.406], std=[0.229, 0.224, 0.225]),\n",
    "])\n",
    "\n",
    "\n",
    "dists_ref, dists_ivf_ref = get_dists(img_dir_pas,transform, n_max=n_max)\n",
    "dists_act, dists_ivf_act= get_dists(img_dir_act,transform, n_max=n_max)\n",
    "\n",
    "print('>>> Computing distances with hue shift...')\n",
    "transform = transforms.Compose([\n",
    "    lambda x: functional.adjust_contrast(x, 2.0),\n",
    "    transforms.ToTensor(),\n",
    "    transforms.Normalize(mean=[0.485, 0.456, 0.406], std=[0.229, 0.224, 0.225]),\n",
    "])\n",
    "\n",
    "t_dists_ref, t_dists_ivf_ref = get_dists(img_dir_pas,transform, n_max=n_max)\n",
    "t_dists_act, t_dists_ivf_act= get_dists(img_dir_act,transform, n_max=n_max)\n",
    "\n",
    "\n",
    "def get_dists_nonmatching(data_loader, n_max = 100):\n",
    "    ct=0\n",
    "    fts = []\n",
    "    pqs = []\n",
    "    for img in tqdm.tqdm(data_loader):\n",
    "        img = img.to(device)\n",
    "        ft = model(img).detach().cpu().numpy()\n",
    "        fts.append(ft)\n",
    "        ct += ft.shape[0]\n",
    "        if ct >= n_max:\n",
    "            break\n",
    "    fts = np.concatenate(fts, axis=0)\n",
    "    pq_recons = index.reconstruct_n(0, n_max)\n",
    "    dists = cdist(fts, pq_recons, metric='euclidean')\n",
    "    dists = dists[~np.eye(dists.shape[0],dtype=bool)].reshape(dists.shape[0],-1)\n",
    "    return dists.flatten()\n",
    "\n",
    "print('>>> Computing distances for non matching images...')\n",
    "\n",
    "transform = transforms.Compose([\n",
    "    transforms.ToTensor(),\n",
    "    transforms.Normalize(mean=[0.485, 0.456, 0.406], std=[0.229, 0.224, 0.225]),\n",
    "    transforms.Resize((size,size)),\n",
    "    ])\n",
    "\n",
    "data_loader = utils.get_dataloader(img_dir_pas, transform, batch_size=128, collate_fn=None)\n",
    "dists_nonmatching = get_dists_nonmatching(data_loader, n_max = 128)\n",
    "\n",
    "data_loader = utils.get_dataloader(img_dir_act, transform, batch_size=128, collate_fn=None)\n",
    "dists_nonmatching_act = get_dists_nonmatching(data_loader, n_max = 128)\n",
    "\n",
    "dists_ref = np.array(dists_ref)\n",
    "print(np.mean(dists_ref**2), np.std(dists_ref**2))\n",
    "t_dists_ref = np.array(t_dists_ref)\n",
    "print(np.mean(t_dists_ref**2), np.std(t_dists_ref**2))\n",
    "dists_act = np.array(dists_act)\n",
    "print(np.mean(dists_act**2), np.std(dists_act**2))\n",
    "t_dists_act = np.array(t_dists_act)\n",
    "print(np.mean(t_dists_act**2), np.std(t_dists_act**2))\n",
    "dists_nonmatching = np.array(dists_nonmatching)\n",
    "print(np.mean(dists_nonmatching**2), np.std(dists_nonmatching**2))\n",
    "dists_nonmatching_act = np.array(dists_nonmatching_act)\n",
    "print(np.mean(dists_nonmatching_act**2), np.std(dists_nonmatching_act**2))\n",
    "dists_ref = np.array(dists_ref)**2\n",
    "t_dists_ref = np.array(t_dists_ref)**2\n",
    "dists_act = np.array(dists_act)**2\n",
    "t_dists_act = np.array(t_dists_act)**2\n",
    "dists_nonmatching = np.array(dists_nonmatching)**2\n",
    "dists_nonmatching_act = np.array(dists_nonmatching_act)**2\n",
    "import scipy.stats as stats\n",
    "plt.rc('text', usetex=False)\n",
    "\n",
    "cmap = plt.get_cmap('tab10')\n",
    "colors = cmap.colors\n",
    "\n",
    "fig, axs = plt.subplots(2, 1, figsize=(4, 3.5), sharex=True, sharey=True)\n",
    "\n",
    "axs[0].axvline(dists_ref.mean(), linestyle='dashed', linewidth=1, color=colors[0], alpha=0.8, zorder=0)\n",
    "axs[0].axvline(t_dists_ref.mean(), linestyle='dashed', linewidth=1, color=colors[1], alpha=0.8, zorder=0)\n",
    "axs[0].axvline(dists_nonmatching.mean(), linestyle='dashed', linewidth=1, color=colors[2], alpha=0.8, zorder=0)\n",
    "axs[0].hist(dists_nonmatching, bins=100, label=r'$||y-q(x)||^2$', density=True, color=colors[2], alpha=0.4)\n",
    "axs[0].hist(dists_ref, bins=100, label=r'$||x-q(x)||^2$', density=True, color=colors[0], alpha=0.8)\n",
    "axs[0].hist(t_dists_ref, bins=100, label=r'$||\\hat{x}-q(x)||^2$', density=True, color=colors[1], alpha=0.8)\n",
    "axs[0].set_title('Passive')\n",
    "\n",
    "axs[1].axvline(dists_ref.mean(), linestyle='dashed', linewidth=1, color=colors[0], alpha=0.2, zorder=0)\n",
    "axs[1].axvline(t_dists_ref.mean(), linestyle='dashed', linewidth=1, color=colors[1], alpha=0.2, zorder=0)\n",
    "axs[1].axvline(dists_act.mean(), linestyle='dashed', linewidth=1, color=colors[0], alpha=0.8, zorder=0)\n",
    "axs[1].axvline(t_dists_act.mean(), linestyle='dashed', linewidth=1, color=colors[1], alpha=0.8, zorder=0)\n",
    "axs[1].axvline(dists_nonmatching_act.mean(), linestyle='dashed', linewidth=1, color=colors[2], alpha=0.8)\n",
    "axs[1].hist(dists_nonmatching_act, bins=100, label=r'$||y^\\star-q(x)||^2$', density=True, color=colors[2], alpha=0.4)\n",
    "axs[1].hist(dists_act, bins=100, label=r'$||x^\\star-q(x)||^2$', density=True, color=colors[0], alpha=0.8)\n",
    "axs[1].hist(t_dists_act, bins=100, label=r'$||\\hat{x}^\\star-q(x)||^2$', density=True, color=colors[1], alpha=0.8)\n",
    "axs[1].set_title('Active')\n",
    "\n",
    "axs[0].legend(framealpha=0.6, frameon=True, loc='upper left')\n",
    "axs[1].legend(framealpha=0.6, frameon=True, loc='upper right')\n",
    "axs[0].grid()\n",
    "axs[1].grid()\n",
    "plt.tight_layout()\n",
    "plt.yticks([])\n",
    "plt.xlim(0.3,1.4)\n",
    "\n",
    "plt.show()\n",
    "print(dists_ref.mean(), t_dists_ref.mean(), dists_act.mean(), t_dists_act.mean())"
   ]
  },
  {
   "cell_type": "markdown",
   "metadata": {},
   "source": [
    "## Time"
   ]
  },
  {
   "cell_type": "code",
   "execution_count": 2,
   "metadata": {},
   "outputs": [],
   "source": [
    "def search_times(idx_path, nqueries=10000):\n",
    "    print(idx_path)\n",
    "    index = faiss.read_index(idx_path)\n",
    "    fts_reference_path = \"path/to/ref_1M/fts.pth\"\n",
    "    fts = torch.load(fts_reference_path)\n",
    "    index.add(fts.detach().cpu().numpy())\n",
    "    n_index_ref = index.ntotal\n",
    "    if 'IVF' in idx_path:\n",
    "        index.make_direct_map()\n",
    "\n",
    "    np.random.seed(0)\n",
    "    fts = np.random.randn(nqueries, 512).astype(np.float32)\n",
    "\n",
    "    nprobes = [1,16,32]\n",
    "    if not 'IVF' in idx_path:\n",
    "        nprobes = [1]\n",
    "\n",
    "    for nprobe in nprobes:\n",
    "        index.nprobe = nprobe\n",
    "        search_times = []\n",
    "        for ii in range(nqueries):\n",
    "            ft = fts[ii:ii+1]\n",
    "            time_0 = time.time()\n",
    "            index.search(ft, k=1)\n",
    "            search_times.append(time.time() - time_0)\n",
    "        search_times = 1e3 * np.array(search_times)\n",
    "        print(f'Averaged search time: {np.mean(search_times)} - Max: {np.max(search_times)} - Min: {np.min(search_times)} - Std: {np.std(search_times)}')"
   ]
  },
  {
   "cell_type": "code",
   "execution_count": null,
   "metadata": {},
   "outputs": [],
   "source": [
    "search_times(\"path/to/index.index\")"
   ]
  },
  {
   "cell_type": "markdown",
   "metadata": {},
   "source": [
    "## Images"
   ]
  },
  {
   "cell_type": "markdown",
   "metadata": {},
   "source": [
    "### Qualitative"
   ]
  },
  {
   "cell_type": "code",
   "execution_count": 8,
   "metadata": {},
   "outputs": [],
   "source": [
    "def psnr(x):\n",
    "    return 20*np.log10(255) - 10*np.log10(np.mean(x**2))\n",
    "\n",
    "def visu_diff(img_ori, img_comp, title=None, figsize=(20,30), crop=None, hori=True):\n",
    "    plt.figure(figsize=figsize)\n",
    "    if title is not None:\n",
    "        plt.suptitle(title, fontsize=16)\n",
    "        \n",
    "    img_ori_ar = np.asarray(img_ori)\n",
    "    img_comp_ar = np.asarray(img_comp)\n",
    "\n",
    "    if hori:\n",
    "        plt.subplot(1, 3, 1)    \n",
    "    else:\n",
    "        plt.subplot(3, 1, 1)\n",
    "    plt.imshow(img_ori_ar)\n",
    "    plt.axis('off')\n",
    "    plt.title('Image 1')\n",
    "\n",
    "    if hori:\n",
    "        plt.subplot(1, 3, 2)    \n",
    "    else:\n",
    "        plt.subplot(3, 1, 2)\n",
    "    plt.imshow(img_comp_ar)\n",
    "    plt.axis('off')\n",
    "    plt.title('Image 2')\n",
    "\n",
    "    diff = img_comp_ar.astype(int)-img_ori_ar.astype(int)\n",
    "    print(\"Linf = %i\" %np.amax(np.abs(diff)), ' at ', np.unravel_index(np.argmax(np.abs(diff), axis=None), np.abs(diff).shape))\n",
    "    print(\"PSNR = %f\" %psnr(diff))\n",
    "    diff = np.linalg.norm(diff, ord=1, axis=2)\n",
    "    if hori:\n",
    "        plt.subplot(1, 3, 3)    \n",
    "    else:\n",
    "        plt.subplot(3, 1, 3)\n",
    "    plt.imshow(diff)\n",
    "    plt.title('Difference')\n",
    "\n",
    "    plt.tight_layout()\n",
    "    plt.axis('off')\n",
    "    plt.grid(False)\n",
    "    plt.show()\n",
    "\n",
    "    return diff"
   ]
  },
  {
   "cell_type": "markdown",
   "metadata": {},
   "source": [
    "### Quantitative"
   ]
  },
  {
   "cell_type": "code",
   "execution_count": 10,
   "metadata": {},
   "outputs": [
    {
     "name": "stdout",
     "output_type": "stream",
     "text": [
      "00028.png\n",
      "00149.png\n",
      "00180.png\n",
      "00358.png\n",
      "00398.png\n",
      "00681.png\n",
      "00690.png\n"
     ]
    }
   ],
   "source": [
    "img_dir_pas = \"path/to/original/img/dir\"\n",
    "img_dir_act = \"path/to/activated/img/dir\"\n",
    "\n",
    "filenames = os.listdir(img_dir_pas)\n",
    "filenames.sort()\n",
    "psnrs = []\n",
    "ssims = []\n",
    "linfs = []\n",
    "for ii, filename in enumerate(filenames):\n",
    "    if ii > 1000:\n",
    "        break\n",
    "    pil_img_ori = Image.open(os.path.join(img_dir_pas, filename))\n",
    "    pil_img = Image.open(os.path.join(img_dir_act, f'{ii:05d}.png'))\n",
    "    img_ori = np.asarray(pil_img_ori)\n",
    "    img = np.asarray(pil_img)\n",
    "    # print(img_ori.shape, img.shape, filename, f'{ii:05d}.png')\n",
    "    ssims.append(structural_similarity(img_ori, img, channel_axis=2))\n",
    "    psnrs.append(peak_signal_noise_ratio(img_ori, img))\n",
    "    linfs.append(np.amax(np.abs(img_ori.astype(int)-img.astype(int))))\n",
    "    if ssims[-1]<0.9:\n",
    "        print(filename)"
   ]
  },
  {
   "cell_type": "code",
   "execution_count": 11,
   "metadata": {},
   "outputs": [
    {
     "name": "stdout",
     "output_type": "stream",
     "text": [
      "SSIM: 0.9821±0.0164 [0.8528, 0.9980]\n",
      "PSNR: 42.5714±2.2717 [35.8791, 49.8398]\n",
      "Linf: 14.6503±1.2681 [6.0000, 17.0000]\n"
     ]
    }
   ],
   "source": [
    "ssim_mean, ssim_std, ssim_max, ssim_min = np.mean(ssims), np.std(ssims), np.max(ssims), np.min(ssims) \n",
    "psnr_mean, psnr_std, psnr_max, psnr_min = np.mean(psnrs), np.std(psnrs), np.max(psnrs), np.min(psnrs)\n",
    "linf_mean, linf_std, linf_max, linf_min = np.mean(linfs), np.std(linfs), np.max(linfs), np.min(linfs)\n",
    "print(f\"SSIM: {ssim_mean:.4f}±{ssim_std:.4f} [{ssim_min:.4f}, {ssim_max:.4f}]\")\n",
    "print(f\"PSNR: {psnr_mean:.4f}±{psnr_std:.4f} [{psnr_min:.4f}, {psnr_max:.4f}]\")\n",
    "print(f\"Linf: {linf_mean:.4f}±{linf_std:.4f} [{linf_min:.4f}, {linf_max:.4f}]\")"
   ]
  }
 ],
 "metadata": {
  "kernelspec": {
   "display_name": "Python 3.8.12 ('ssl_watermarking': conda)",
   "language": "python",
   "name": "python3"
  },
  "language_info": {
   "codemirror_mode": {
    "name": "ipython",
    "version": 3
   },
   "file_extension": ".py",
   "mimetype": "text/x-python",
   "name": "python",
   "nbconvert_exporter": "python",
   "pygments_lexer": "ipython3",
   "version": "3.10.9"
  },
  "orig_nbformat": 4,
  "vscode": {
   "interpreter": {
    "hash": "ca1cf4d29d3f2b5143ded1ea4227ed45726976b59f5f3aa2311ff36ca991fa59"
   }
  }
 },
 "nbformat": 4,
 "nbformat_minor": 2
}
